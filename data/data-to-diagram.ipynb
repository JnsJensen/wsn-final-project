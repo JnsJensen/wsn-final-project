{
 "cells": [
  {
   "cell_type": "code",
   "execution_count": 6,
   "metadata": {},
   "outputs": [],
   "source": [
    "import numpy as np\n",
    "import re\n",
    "import matplotlib.pyplot as plt\n",
    "import polars as pl\n",
    "import seaborn as sns"
   ]
  },
  {
   "cell_type": "code",
   "execution_count": 43,
   "metadata": {},
   "outputs": [],
   "source": [
    "# Setup and global variables\n",
    "# --------------------------\n",
    "# Set the path to the data directory\n",
    "fig_dir = \"img/\"\n",
    "# Plotting setup and style\n",
    "custom_cmap = plt.get_cmap(\"viridis\")\n",
    "sns.set_style(\"darkgrid\")\n",
    "# Relative data paths\n",
    "output_energy = \"output-energy\" # Energy measurement output file\n",
    "output_timing = \"output-timing\" # Timing measurement output file\n",
    "s_hardware = \"-hardware\"\n",
    "s_software = \"-software\"\n",
    "s_full = \"-full\"\n",
    "\n",
    "# Constants\n",
    "class Energy:\n",
    "    CURRENT = {\n",
    "        \"CPU\": 1.8, # mA as per https://www.willow.co.uk/TelosB_Datasheet.pdf\n",
    "        \"LPM\": 0.0051 + 0.021, # 26.1 uA as per https://www.willow.co.uk/TelosB_Datasheet.pdf\n",
    "        \"DEEP_LPM\": 0.0061, # 6.1 uA as per https://www.willow.co.uk/TelosB_Datasheet.pdf\n",
    "        \"RADIO_RX\": 18.8, # https://www.ti.com/lit/ds/symlink/cc2420.pdf?ts=1670166938154&ref_url=https%253A%252F%252Fwww.ti.com%252Fproduct%252FCC2420\n",
    "        \"RADIO_TX\": 17.4 # https://www.ti.com/lit/ds/symlink/cc2420.pdf?ts=1670166938154&ref_url=https%253A%252F%252Fwww.ti.com%252Fproduct%252FCC2420\n",
    "    }\n",
    "    VOLTAGE = 3\n",
    "    TICKS_PER_SECOND = 32768"
   ]
  },
  {
   "cell_type": "code",
   "execution_count": 45,
   "metadata": {},
   "outputs": [],
   "source": [
    "\"\"\"\n",
    "Takes a path to a file containing the timing measurements\n",
    "Returns a DataFrame with the timing measurements\n",
    "\"\"\"\n",
    "def extract_timings(path: str) -> pl.DataFrame:\n",
    "    \"\"\"Extract the timings from the output timing file\"\"\"\n",
    "    # Read the file\n",
    "    with open(path, \"r\") as f:\n",
    "        file = f.read()\n",
    "    # Extract Sensor timings\n",
    "    sensor_timings = re.findall(r\"Sensor time: (\\d+)\", file)\n",
    "    sensor_timings = [int(t) for t in sensor_timings]\n",
    "    # Extract AES encryption timings\n",
    "    aes_timings = re.findall(r\"AES time: (\\d+)\", file)\n",
    "    aes_timings = [int(t) for t in aes_timings]\n",
    "    # Extract TX timings\n",
    "    tx_timings = re.findall(r\"TX time: (\\d+)\", file)\n",
    "    tx_timings = [int(t) for t in tx_timings]\n",
    "\n",
    "    # Create a DataFrame\n",
    "    df = pl.DataFrame(\n",
    "        {\n",
    "            \"Sensor\": sensor_timings,\n",
    "            \"AES Encryption\": aes_timings,\n",
    "            \"TX\": tx_timings,\n",
    "        }\n",
    "    )\n",
    "    return df\n",
    "\n",
    "\"\"\"\n",
    "Takes a summary string and returns a list of values\n",
    "Returns a list of values\n",
    "\"\"\"\n",
    "def extract_values(summary: str, samples=1) -> list:\n",
    "    # extract the values\n",
    "    match = re.findall(r\":\\s+(\\d+)\", summary)\n",
    "    # return the values\n",
    "    return [int(x) / samples if i > 0 else int(x) for i, x in enumerate(match)]\n",
    "\n",
    "\"\"\"\n",
    "Takes a path to a file containing the energy measurements\n",
    "Returns a DataFrame with the energy measurements\n",
    "\"\"\"\n",
    "def extract_summaries(energest_output: str) -> list:\n",
    "    # open the file to apply regex on\n",
    "    with open(energest_output, \"r\") as f:\n",
    "        # read the file\n",
    "        file = f.read()\n",
    "        # extract the summaries\n",
    "        # summaries = summary_regex.findall(file)\n",
    "        summaries = re.findall(r\"Sensor energy:.*?Radio total\\s+:\\s+\\d+/\\s+\\d+ \\(\\d+ permil\\)\", file, re.DOTALL)\n",
    "        # return the summaries\n",
    "        return summaries"
   ]
  },
  {
   "cell_type": "code",
   "execution_count": 47,
   "metadata": {},
   "outputs": [
    {
     "ename": "ShapeError",
     "evalue": "Could not create a new DataFrame from Series. The Series have different lengths. Got [shape: (178,)\nSeries: 'Sensor' [i64]\n[\n\t54\n\t55\n\t55\n\t55\n\t55\n\t55\n\t55\n\t55\n\t55\n\t55\n\t54\n\t54\n\t...\n\t55\n\t55\n\t55\n\t55\n\t55\n\t56\n\t54\n\t54\n\t54\n\t54\n\t54\n\t54\n\t54\n], shape: (177,)\nSeries: 'AES Encryption' [i64]\n[\n\t112\n\t115\n\t115\n\t115\n\t115\n\t114\n\t114\n\t115\n\t114\n\t114\n\t112\n\t114\n\t...\n\t114\n\t114\n\t114\n\t114\n\t114\n\t114\n\t112\n\t114\n\t114\n\t114\n\t114\n\t114\n\t114\n], shape: (177,)\nSeries: 'TX' [i64]\n[\n\t120\n\t122\n\t122\n\t122\n\t121\n\t122\n\t121\n\t122\n\t121\n\t122\n\t122\n\t122\n\t...\n\t122\n\t122\n\t122\n\t122\n\t122\n\t122\n\t121\n\t122\n\t122\n\t121\n\t121\n\t122\n\t122\n]]",
     "output_type": "error",
     "traceback": [
      "\u001b[0;31m---------------------------------------------------------------------------\u001b[0m",
      "\u001b[0;31mShapeError\u001b[0m                                Traceback (most recent call last)",
      "Cell \u001b[0;32mIn[47], line 1\u001b[0m\n\u001b[0;32m----> 1\u001b[0m df \u001b[39m=\u001b[39m extract_timings(output_timing \u001b[39m+\u001b[39;49m s_software \u001b[39m+\u001b[39;49m \u001b[39m\"\u001b[39;49m\u001b[39m.txt\u001b[39;49m\u001b[39m\"\u001b[39;49m)\n\u001b[1;32m      2\u001b[0m \u001b[39mlen\u001b[39m(df)\n",
      "Cell \u001b[0;32mIn[45], line 21\u001b[0m, in \u001b[0;36mextract_timings\u001b[0;34m(path)\u001b[0m\n\u001b[1;32m     18\u001b[0m tx_timings \u001b[39m=\u001b[39m [\u001b[39mint\u001b[39m(t) \u001b[39mfor\u001b[39;00m t \u001b[39min\u001b[39;00m tx_timings]\n\u001b[1;32m     20\u001b[0m \u001b[39m# Create a DataFrame\u001b[39;00m\n\u001b[0;32m---> 21\u001b[0m df \u001b[39m=\u001b[39m pl\u001b[39m.\u001b[39;49mDataFrame(\n\u001b[1;32m     22\u001b[0m     {\n\u001b[1;32m     23\u001b[0m         \u001b[39m\"\u001b[39;49m\u001b[39mSensor\u001b[39;49m\u001b[39m\"\u001b[39;49m: sensor_timings,\n\u001b[1;32m     24\u001b[0m         \u001b[39m\"\u001b[39;49m\u001b[39mAES Encryption\u001b[39;49m\u001b[39m\"\u001b[39;49m: aes_timings,\n\u001b[1;32m     25\u001b[0m         \u001b[39m\"\u001b[39;49m\u001b[39mTX\u001b[39;49m\u001b[39m\"\u001b[39;49m: tx_timings,\n\u001b[1;32m     26\u001b[0m     }\n\u001b[1;32m     27\u001b[0m )\n\u001b[1;32m     28\u001b[0m \u001b[39mreturn\u001b[39;00m df\n",
      "File \u001b[0;32m~/miniconda3/envs/wsn/lib/python3.10/site-packages/polars/internals/dataframe/frame.py:279\u001b[0m, in \u001b[0;36mDataFrame.__init__\u001b[0;34m(self, data, columns, orient)\u001b[0m\n\u001b[1;32m    276\u001b[0m     \u001b[39mself\u001b[39m\u001b[39m.\u001b[39m_df \u001b[39m=\u001b[39m dict_to_pydf({}, columns\u001b[39m=\u001b[39mcolumns)\n\u001b[1;32m    278\u001b[0m \u001b[39melif\u001b[39;00m \u001b[39misinstance\u001b[39m(data, \u001b[39mdict\u001b[39m):\n\u001b[0;32m--> 279\u001b[0m     \u001b[39mself\u001b[39m\u001b[39m.\u001b[39m_df \u001b[39m=\u001b[39m dict_to_pydf(data, columns\u001b[39m=\u001b[39;49mcolumns)\n\u001b[1;32m    281\u001b[0m \u001b[39melif\u001b[39;00m _NUMPY_TYPE(data) \u001b[39mand\u001b[39;00m \u001b[39misinstance\u001b[39m(data, np\u001b[39m.\u001b[39mndarray):\n\u001b[1;32m    282\u001b[0m     \u001b[39mself\u001b[39m\u001b[39m.\u001b[39m_df \u001b[39m=\u001b[39m numpy_to_pydf(data, columns\u001b[39m=\u001b[39mcolumns, orient\u001b[39m=\u001b[39morient)\n",
      "File \u001b[0;32m~/miniconda3/envs/wsn/lib/python3.10/site-packages/polars/internals/construction.py:606\u001b[0m, in \u001b[0;36mdict_to_pydf\u001b[0;34m(data, columns)\u001b[0m\n\u001b[1;32m    603\u001b[0m         \u001b[39mreturn\u001b[39;00m PyDataFrame(data_series)\n\u001b[1;32m    605\u001b[0m \u001b[39m# fast path\u001b[39;00m\n\u001b[0;32m--> 606\u001b[0m \u001b[39mreturn\u001b[39;00m PyDataFrame\u001b[39m.\u001b[39;49mread_dict(data)\n",
      "\u001b[0;31mShapeError\u001b[0m: Could not create a new DataFrame from Series. The Series have different lengths. Got [shape: (178,)\nSeries: 'Sensor' [i64]\n[\n\t54\n\t55\n\t55\n\t55\n\t55\n\t55\n\t55\n\t55\n\t55\n\t55\n\t54\n\t54\n\t...\n\t55\n\t55\n\t55\n\t55\n\t55\n\t56\n\t54\n\t54\n\t54\n\t54\n\t54\n\t54\n\t54\n], shape: (177,)\nSeries: 'AES Encryption' [i64]\n[\n\t112\n\t115\n\t115\n\t115\n\t115\n\t114\n\t114\n\t115\n\t114\n\t114\n\t112\n\t114\n\t...\n\t114\n\t114\n\t114\n\t114\n\t114\n\t114\n\t112\n\t114\n\t114\n\t114\n\t114\n\t114\n\t114\n], shape: (177,)\nSeries: 'TX' [i64]\n[\n\t120\n\t122\n\t122\n\t122\n\t121\n\t122\n\t121\n\t122\n\t121\n\t122\n\t122\n\t122\n\t...\n\t122\n\t122\n\t122\n\t122\n\t122\n\t122\n\t121\n\t122\n\t122\n\t121\n\t121\n\t122\n\t122\n]]"
     ]
    }
   ],
   "source": [
    "df = extract_timings(output_timing + s_software + \".txt\")\n",
    "len(df)"
   ]
  },
  {
   "cell_type": "code",
   "execution_count": 50,
   "metadata": {},
   "outputs": [
    {
     "data": {
      "text/plain": [
       "1060"
      ]
     },
     "execution_count": 50,
     "metadata": {},
     "output_type": "execute_result"
    }
   ],
   "source": [
    "df = extract_summaries(output_energy + s_hardware + \".txt\")\n",
    "len(df)"
   ]
  }
 ],
 "metadata": {
  "kernelspec": {
   "display_name": "Python 3.10.8 ('wsn')",
   "language": "python",
   "name": "python3"
  },
  "language_info": {
   "codemirror_mode": {
    "name": "ipython",
    "version": 3
   },
   "file_extension": ".py",
   "mimetype": "text/x-python",
   "name": "python",
   "nbconvert_exporter": "python",
   "pygments_lexer": "ipython3",
   "version": "3.10.8"
  },
  "orig_nbformat": 4,
  "vscode": {
   "interpreter": {
    "hash": "44f7947fc72c797ef608916cf2e89d235afcd2bcc4019e98a2f37198379ae565"
   }
  }
 },
 "nbformat": 4,
 "nbformat_minor": 2
}
