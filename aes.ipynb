{
 "cells": [
  {
   "cell_type": "code",
   "execution_count": 5,
   "metadata": {},
   "outputs": [],
   "source": [
    "import numpy as np\n",
    "import re"
   ]
  },
  {
   "cell_type": "code",
   "execution_count": 22,
   "metadata": {},
   "outputs": [
    {
     "name": "stdout",
     "output_type": "stream",
     "text": [
      "Total time: 1966080\n",
      "CPU time: 10374\n",
      "LPM time: 1955706\n",
      "Deep LPM: 0\n",
      "Radio Tx time: 106\n",
      "Radio Rx time: 104802\n",
      "Radio total time: 104908\n"
     ]
    }
   ],
   "source": [
    "# estimate energy consumption using the simple energest output\n",
    "# Example energest output:\n",
    "# [INFO: Energest  ] --- Period summary #2 (60 seconds)\n",
    "# [INFO: Energest  ] Total time  :    1966080\n",
    "# [INFO: Energest  ] CPU         :      10374/   1966080 (5 permil)\n",
    "# [INFO: Energest  ] LPM         :    1955706/   1966080 (994 permil)\n",
    "# [INFO: Energest  ] Deep LPM    :          0/   1966080 (0 permil)\n",
    "# [INFO: Energest  ] Radio Tx    :        106/   1966080 (0 permil)\n",
    "# [INFO: Energest  ] Radio Rx    :     104802/   1966080 (53 permil)\n",
    "# [INFO: Energest  ] Radio total :     104908/   1966080 (53 permil)\n",
    "\n",
    "# Energest ouput\n",
    "energest_output = \" --- Period summary #2 (60 seconds)\\nTotal time  :    1966080\\nCPU         :      10374/   1966080 (5 permil)\\nLPM         :    1955706/   1966080 (994 permil)\\nDeep LPM    :          0/   1966080 (0 permil)\\nRadio Tx    :        106/   1966080 (0 permil)\\nRadio Rx    :     104802/   1966080 (53 permil)\\nRadio total :     104908/   1966080 (53 permil)\"\n",
    "\n",
    "# with regex, we can extract the numbers from the output\n",
    "# total time\n",
    "# CPU time\n",
    "# LPM time\n",
    "# Radio Tx time\n",
    "# Radio Rx time\n",
    "# Radio total time\n",
    "\n",
    "# regex to extract the numbers\n",
    "regex = re.compile(r\":\\s+(\\d+)\")\n",
    "\n",
    "# extract the values\n",
    "match = regex.findall(energest_output)\n",
    "times = [int(x) for x in match]\n",
    "\n",
    "total_time, cpu_time, lpm_time, deep_lpm_time, radio_tx_time, radio_rx_time, radio_total_time = times\n",
    "\n",
    "# print the values\n",
    "print(\"Total time: %s\" % total_time)\n",
    "print(\"CPU time: %s\" % cpu_time)\n",
    "print(\"LPM time: %s\" % lpm_time)\n",
    "print(\"Deep LPM: %s\" % deep_lpm_time)\n",
    "print(\"Radio Tx time: %s\" % radio_tx_time)\n",
    "print(\"Radio Rx time: %s\" % radio_rx_time)\n",
    "print(\"Radio total time: %s\" % radio_total_time)\n",
    "\n",
    "# current draw in different states in mA\n",
    "CPU_CURRENT = 10\n",
    "LPM_CURRENT = 0.023\n",
    "DEEP_LPM_CURRENT = 0\n",
    "RADIO_TX_CURRENT = 18.4\n",
    "RADIO_RX_CURRENT = 17.4\n",
    "\n",
    "# we have the following values available\n",
    "# []_time - the number of ticks spent in each mode\n",
    "# TICKS_PER_SECOND - the number of ticks per second\n",
    "# total_time - the total time in ticks\n",
    "# []_CURRENT - the current draw in each mode\n",
    "# voltage - the provided voltage to the component\n",
    "\n",
    "# state_avg_current_mA = ([]_time * current_mA) / total_time\n",
    "# state_charge_mC = ([]_time * current_mA) / TICKS_PER_SECOND\n",
    "# state_power_mW = avg_current_mA * voltage\n",
    "# state_energy_mJ = state_charge_mC * voltage\n",
    "\n",
    "\n"
   ]
  }
 ],
 "metadata": {
  "kernelspec": {
   "display_name": "Python 3.10.8 64-bit (microsoft store)",
   "language": "python",
   "name": "python3"
  },
  "language_info": {
   "codemirror_mode": {
    "name": "ipython",
    "version": 3
   },
   "file_extension": ".py",
   "mimetype": "text/x-python",
   "name": "python",
   "nbconvert_exporter": "python",
   "pygments_lexer": "ipython3",
   "version": "3.10.8"
  },
  "orig_nbformat": 4,
  "vscode": {
   "interpreter": {
    "hash": "3ce20cb1b7fa18b844f07705d867110f4bb59ec5eac0e921f4621235f63efadf"
   }
  }
 },
 "nbformat": 4,
 "nbformat_minor": 2
}
