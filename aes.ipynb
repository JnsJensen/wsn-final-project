{
 "cells": [
  {
   "cell_type": "code",
   "execution_count": 1,
   "metadata": {},
   "outputs": [
    {
     "ename": "ModuleNotFoundError",
     "evalue": "No module named 'Crypto'",
     "output_type": "error",
     "traceback": [
      "\u001b[1;31m---------------------------------------------------------------------------\u001b[0m",
      "\u001b[1;31mModuleNotFoundError\u001b[0m                       Traceback (most recent call last)",
      "Cell \u001b[1;32mIn [1], line 1\u001b[0m\n\u001b[1;32m----> 1\u001b[0m \u001b[39mfrom\u001b[39;00m \u001b[39mCrypto\u001b[39;00m\u001b[39m.\u001b[39;00m\u001b[39mCipher\u001b[39;00m \u001b[39mimport\u001b[39;00m AES\n\u001b[0;32m      3\u001b[0m key \u001b[39m=\u001b[39m [\u001b[39m5\u001b[39m, \u001b[39m0\u001b[39m, \u001b[39m7\u001b[39m, \u001b[39m6\u001b[39m, \u001b[39m9\u001b[39m, \u001b[39m9\u001b[39m, \u001b[39m6\u001b[39m, \u001b[39m2\u001b[39m, \u001b[39m9\u001b[39m, \u001b[39m1\u001b[39m, \u001b[39m3\u001b[39m, \u001b[39m8\u001b[39m, \u001b[39m6\u001b[39m, \u001b[39m8\u001b[39m, \u001b[39m4\u001b[39m, \u001b[39m0\u001b[39m]\n\u001b[0;32m      4\u001b[0m key \u001b[39m=\u001b[39m \u001b[39mbytes\u001b[39m(key)\n",
      "\u001b[1;31mModuleNotFoundError\u001b[0m: No module named 'Crypto'"
     ]
    }
   ],
   "source": [
    "from Crypto.Cipher import AES\n",
    "\n",
    "key = [5, 0, 7, 6, 9, 9, 6, 2, 9, 1, 3, 8, 6, 8, 4, 0]\n",
    "key = bytes(key)\n",
    "\n",
    "cipher = AES.new(key, AES.MODE_EAX, nonce=nonce)\n",
    "encryptes = [69, 235, 240, 209, 46, 129, 113, 7, 116, 32, 68, 168, 91, 101, 100, 144]\n",
    "encryptes = bytes(encryptes)\n",
    "data = cipher.decrypt(encryptes)\n",
    "data"
   ]
  }
 ],
 "metadata": {
  "kernelspec": {
   "display_name": "Python 3.10.8 64-bit (microsoft store)",
   "language": "python",
   "name": "python3"
  },
  "language_info": {
   "codemirror_mode": {
    "name": "ipython",
    "version": 3
   },
   "file_extension": ".py",
   "mimetype": "text/x-python",
   "name": "python",
   "nbconvert_exporter": "python",
   "pygments_lexer": "ipython3",
   "version": "3.10.8"
  },
  "orig_nbformat": 4,
  "vscode": {
   "interpreter": {
    "hash": "3ce20cb1b7fa18b844f07705d867110f4bb59ec5eac0e921f4621235f63efadf"
   }
  }
 },
 "nbformat": 4,
 "nbformat_minor": 2
}
